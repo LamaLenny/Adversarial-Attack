{
 "cells": [
  {
   "cell_type": "code",
   "execution_count": 1,
   "metadata": {},
   "outputs": [],
   "source": [
    "import pandas as pd\n",
    "import numpy as np\n",
    "import torch\n",
    "import torch.nn as nn\n",
    "import matplotlib.pyplot as plt\n",
    "from sklearn.model_selection import train_test_split\n",
    "from sklearn.metrics import accuracy_score\n",
    "from collections import Counter"
   ]
  },
  {
   "cell_type": "markdown",
   "metadata": {},
   "source": [
    "# Штуки с данными"
   ]
  },
  {
   "cell_type": "code",
   "execution_count": 2,
   "metadata": {},
   "outputs": [],
   "source": [
    "class DataLoader:\n",
    "    \n",
    "    def __init__(self, data, target, batch_size=256):\n",
    "        self.data = data\n",
    "        self.target = target\n",
    "        self.batch_size = batch_size\n",
    "\n",
    "    def next(self):\n",
    "        m, _ = self.data.shape\n",
    "        rand_index = np.random.choice(m, size=m)\n",
    "        X, y = self.data[rand_index], self.target[rand_index]\n",
    "        pos = 0\n",
    "        while pos < m:\n",
    "            X_batch, y_batch = X[pos:pos+self.batch_size], y[pos:pos+self.batch_size]\n",
    "            yield (torch.FloatTensor(X_batch), torch.LongTensor(y_batch))\n",
    "            pos += self.batch_size\n",
    "\n",
    "    def __call__(self):\n",
    "        return self.next()\n"
   ]
  },
  {
   "cell_type": "code",
   "execution_count": 3,
   "metadata": {},
   "outputs": [],
   "source": [
    "X = pd.read_csv('mnist_data.csv').values[:, 1:]\n",
    "y = pd.read_csv('mnist_target.csv').values[:, 1]"
   ]
  },
  {
   "cell_type": "code",
   "execution_count": 4,
   "metadata": {},
   "outputs": [],
   "source": [
    "X = X / 255"
   ]
  },
  {
   "cell_type": "code",
   "execution_count": 5,
   "metadata": {},
   "outputs": [],
   "source": [
    "X_train_val, X_test, y_train_val, y_test = train_test_split(X, y, test_size=0.2, stratify=y, random_state=42)\n",
    "X_train, X_val, y_train, y_val = train_test_split(X_train_val, y_train_val, test_size=0.2, stratify=y_train_val, random_state=42)"
   ]
  },
  {
   "cell_type": "markdown",
   "metadata": {},
   "source": [
    "# Сетка"
   ]
  },
  {
   "cell_type": "code",
   "execution_count": 6,
   "metadata": {},
   "outputs": [],
   "source": [
    "class Model(nn.Module):\n",
    "    \n",
    "    def __init__(self, inp_dim, out_dim=10):\n",
    "        super().__init__()\n",
    "        \n",
    "        lin1 = nn.Linear(inp_dim, 256)\n",
    "        torch.nn.init.xavier_normal_(lin1.weight)\n",
    "        \n",
    "        lin2 = nn.Linear(256, out_dim)\n",
    "        torch.nn.init.xavier_normal_(lin1.weight)\n",
    "        \n",
    "        self.layers = nn.Sequential(lin1, nn.ReLU(), lin2)\n",
    "    \n",
    "    def forward(self, inp):\n",
    "        return self.layers(inp)"
   ]
  },
  {
   "cell_type": "markdown",
   "metadata": {},
   "source": [
    "# Классификатор"
   ]
  },
  {
   "cell_type": "code",
   "execution_count": 7,
   "metadata": {},
   "outputs": [],
   "source": [
    "class Classifier:\n",
    "    \n",
    "    def __init__(self, inp_dim, out_dim=10):\n",
    "        self.model = Model(inp_dim, out_dim)\n",
    "        self.optimizer = torch.optim.Adam(self.model.parameters(), lr=1e-4)\n",
    "        self.loss_function = nn.CrossEntropyLoss()\n",
    "    \n",
    "    def predict(self, X):\n",
    "        if not torch.is_tensor(X):\n",
    "            X = torch.tensor(X).float()   \n",
    "        return torch.argmax(self.model(X), axis=1)\n",
    "    \n",
    "    def fit(self, X_train, y_train, X_val=None, y_val=None, num_epochs=50):         \n",
    "        dataloader = DataLoader(X_train, y_train)\n",
    "        losses = []\n",
    "        accuracies = []\n",
    "        for epoch in range(num_epochs):\n",
    "            loss_sum = 0\n",
    "            for data in dataloader():\n",
    "                inputs, targets = data\n",
    "                outputs = self.model(inputs)\n",
    "                loss = self.loss_function(outputs, targets)\n",
    "                loss_sum += loss.detach()\n",
    "                \n",
    "                self.optimizer.zero_grad()\n",
    "                loss.backward()\n",
    "                self.optimizer.step()\n",
    "                \n",
    "            if X_val is not None:\n",
    "                acc = accuracy_score(y_true=y_val, y_pred=self.predict(X_val))\n",
    "                print(f'Epoch: [{epoch+1}/{num_epochs}], loss: {loss_sum}, acc: {acc}')\n",
    "                accuracies.append(acc)\n",
    "            else:\n",
    "                print(f'Epoch: [{epoch+1}/{num_epochs}], loss: {loss_sum}')\n",
    "            losses.append(loss_sum)\n",
    "    \n",
    "        plt.figure(figsize=(7, 7))\n",
    "        plt.plot(list(range(1, num_epochs + 1)), losses)\n",
    "        plt.title('Loss function value')\n",
    "        plt.show()\n",
    "        \n",
    "        plt.figure(figsize=(7, 7))\n",
    "        plt.plot(list(range(1, num_epochs + 1)), accuracies)\n",
    "        plt.title('Accuracy')\n",
    "        plt.show()\n",
    "    \n",
    "    def fast_adversarial(self, dig, n=784, n_classes=10, eta=0.01, iters=10):\n",
    "        y = torch.LongTensor([dig])\n",
    "        x = torch.tensor(np.random.normal(loc=0, scale=0.01, size=n),\n",
    "                         requires_grad=True, dtype=torch.float)\n",
    "        for _ in range(iters):\n",
    "            loss = self.loss_function(self.model(x).unsqueeze(0), y)\n",
    "            self.model.zero_grad()\n",
    "            loss.backward()       \n",
    "            x = torch.clamp(x - eta * x.grad.sign(), 0, 1).clone().detach().requires_grad_(True)\n",
    "        return x\n",
    "            "
   ]
  },
  {
   "cell_type": "markdown",
   "metadata": {},
   "source": [
    "# Обучение"
   ]
  },
  {
   "cell_type": "code",
   "execution_count": 8,
   "metadata": {},
   "outputs": [
    {
     "name": "stdout",
     "output_type": "stream",
     "text": [
      "Epoch: [1/50], loss: 277.2572326660156, acc: 0.8364285714285714\n",
      "Epoch: [2/50], loss: 120.50691223144531, acc: 0.8792857142857143\n",
      "Epoch: [3/50], loss: 81.52206420898438, acc: 0.8973214285714286\n",
      "Epoch: [4/50], loss: 66.60122680664062, acc: 0.90625\n",
      "Epoch: [5/50], loss: 58.57162094116211, acc: 0.9130357142857143\n",
      "Epoch: [6/50], loss: 54.49159240722656, acc: 0.9191964285714286\n",
      "Epoch: [7/50], loss: 49.950592041015625, acc: 0.9234821428571428\n",
      "Epoch: [8/50], loss: 46.629730224609375, acc: 0.928125\n",
      "Epoch: [9/50], loss: 45.050621032714844, acc: 0.9311607142857142\n",
      "Epoch: [10/50], loss: 40.75532150268555, acc: 0.9346428571428571\n",
      "Epoch: [11/50], loss: 39.666831970214844, acc: 0.9351785714285714\n",
      "Epoch: [12/50], loss: 38.453128814697266, acc: 0.9383928571428571\n",
      "Epoch: [13/50], loss: 37.50762939453125, acc: 0.9414285714285714\n",
      "Epoch: [14/50], loss: 34.9968147277832, acc: 0.941875\n",
      "Epoch: [15/50], loss: 33.88245391845703, acc: 0.9442857142857143\n",
      "Epoch: [16/50], loss: 32.13374328613281, acc: 0.9460714285714286\n",
      "Epoch: [17/50], loss: 31.54070281982422, acc: 0.9479464285714285\n",
      "Epoch: [18/50], loss: 29.540760040283203, acc: 0.9491071428571428\n",
      "Epoch: [19/50], loss: 28.244539260864258, acc: 0.9509821428571429\n",
      "Epoch: [20/50], loss: 27.07593536376953, acc: 0.951875\n",
      "Epoch: [21/50], loss: 26.94424057006836, acc: 0.9525892857142857\n",
      "Epoch: [22/50], loss: 25.86075782775879, acc: 0.9538392857142857\n",
      "Epoch: [23/50], loss: 24.862560272216797, acc: 0.9554464285714286\n",
      "Epoch: [24/50], loss: 23.21511459350586, acc: 0.9558035714285714\n",
      "Epoch: [25/50], loss: 23.41936492919922, acc: 0.9565178571428572\n",
      "Epoch: [26/50], loss: 22.675050735473633, acc: 0.958125\n",
      "Epoch: [27/50], loss: 21.630985260009766, acc: 0.9590178571428571\n",
      "Epoch: [28/50], loss: 21.45661735534668, acc: 0.959375\n",
      "Epoch: [29/50], loss: 19.850528717041016, acc: 0.9599107142857143\n",
      "Epoch: [30/50], loss: 19.10480499267578, acc: 0.9607142857142857\n",
      "Epoch: [31/50], loss: 19.038883209228516, acc: 0.96125\n",
      "Epoch: [32/50], loss: 18.376140594482422, acc: 0.96125\n",
      "Epoch: [33/50], loss: 17.595245361328125, acc: 0.9613392857142857\n",
      "Epoch: [34/50], loss: 17.332429885864258, acc: 0.9624107142857142\n",
      "Epoch: [35/50], loss: 16.84365463256836, acc: 0.9630357142857143\n",
      "Epoch: [36/50], loss: 16.760679244995117, acc: 0.9649107142857143\n",
      "Epoch: [37/50], loss: 16.171300888061523, acc: 0.9644642857142857\n",
      "Epoch: [38/50], loss: 15.10629940032959, acc: 0.9650892857142858\n",
      "Epoch: [39/50], loss: 14.40140438079834, acc: 0.9658035714285714\n",
      "Epoch: [40/50], loss: 14.521886825561523, acc: 0.96625\n",
      "Epoch: [41/50], loss: 14.159441947937012, acc: 0.966875\n",
      "Epoch: [42/50], loss: 13.920616149902344, acc: 0.9669642857142857\n",
      "Epoch: [43/50], loss: 13.717629432678223, acc: 0.9666964285714286\n",
      "Epoch: [44/50], loss: 13.342170715332031, acc: 0.9676785714285714\n",
      "Epoch: [45/50], loss: 13.122479438781738, acc: 0.9675892857142857\n",
      "Epoch: [46/50], loss: 12.903048515319824, acc: 0.9683035714285714\n",
      "Epoch: [47/50], loss: 12.106853485107422, acc: 0.9688392857142857\n",
      "Epoch: [48/50], loss: 11.823098182678223, acc: 0.9680357142857143\n",
      "Epoch: [49/50], loss: 11.428938865661621, acc: 0.9686607142857143\n",
      "Epoch: [50/50], loss: 11.389806747436523, acc: 0.9688392857142857\n"
     ]
    },
    {
     "data": {
      "image/png": "[encoded data removed]",
      "text/plain": [
       "<Figure size 504x504 with 1 Axes>"
      ]
     },
     "metadata": {
      "needs_background": "light"
     },
     "output_type": "display_data"
    },
    {
     "data": {
      "image/png": "[encoded data removed]",
      "text/plain": [
       "<Figure size 504x504 with 1 Axes>"
      ]
     },
     "metadata": {
      "needs_background": "light"
     },
     "output_type": "display_data"
    }
   ],
   "source": [
    "classifier = Classifier(X_train.shape[1])\n",
    "classifier.fit(X_train, y_train, X_val, y_val, 50)"
   ]
  },
  {
   "cell_type": "markdown",
   "metadata": {},
   "source": [
    "# Результаты Adversarial Attack"
   ]
  },
  {
   "cell_type": "code",
   "execution_count": 9,
   "metadata": {},
   "outputs": [],
   "source": [
    "example = classifier.fast_adversarial(8, eta=0.1, iters=5)"
   ]
  },
  {
   "cell_type": "code",
   "execution_count": 10,
   "metadata": {},
   "outputs": [],
   "source": [
    "alpha = 0.5"
   ]
  },
  {
   "cell_type": "code",
   "execution_count": 11,
   "metadata": {},
   "outputs": [],
   "source": [
    "X_spoiled = torch.max(torch.FloatTensor(X_test)*(1-alpha), alpha*example)"
   ]
  },
  {
   "cell_type": "code",
   "execution_count": 12,
   "metadata": {},
   "outputs": [
    {
     "name": "stdout",
     "output_type": "stream",
     "text": [
      "Частоты истинных классов: Counter({1: 1575, 7: 1459, 3: 1428, 2: 1398, 9: 1392, 0: 1381, 6: 1375, 8: 1365, 4: 1365, 5: 1262})\n",
      "***********************\n",
      "До шума: \n",
      "Accuracy: 0.9686428571428571\n",
      "Частоты предсказанных классов: Counter({1: 1594, 7: 1450, 3: 1412, 2: 1407, 9: 1397, 0: 1390, 6: 1385, 8: 1366, 4: 1335, 5: 1264})\n",
      "***********************\n",
      "После шума: \n",
      "Accuracy: 0.09985714285714285\n",
      "Частоты предсказанных классов: Counter({8: 13967, 0: 21, 6: 11, 5: 1})\n"
     ]
    }
   ],
   "source": [
    "print(f'Частоты истинных классов: {Counter(np.array(y_test, dtype=int))}')\n",
    "print('***********************')\n",
    "print('До шума: ')\n",
    "y_pred = classifier.predict(X_test)\n",
    "print(f'Accuracy: {accuracy_score(y_true=y_test, y_pred=y_pred)}')\n",
    "print(f'Частоты предсказанных классов: {Counter(np.array(y_pred, dtype=int))}')\n",
    "print('***********************')\n",
    "print('После шума: ')\n",
    "y_adv = classifier.predict(X_spoiled)\n",
    "print(f'Accuracy: {accuracy_score(y_true=y_test, y_pred=y_adv)}')\n",
    "print(f'Частоты предсказанных классов: {Counter(np.array(y_adv))}')"
   ]
  },
  {
   "cell_type": "markdown",
   "metadata": {},
   "source": [
    "Как видим, после наложения шума почти все цифры интерпретируются как 8"
   ]
  },
  {
   "cell_type": "code",
   "execution_count": null,
   "metadata": {},
   "outputs": [],
   "source": []
  },
  {
   "cell_type": "code",
   "execution_count": null,
   "metadata": {},
   "outputs": [],
   "source": []
  }
 ],
 "metadata": {
  "kernelspec": {
   "display_name": "Python 3",
   "language": "python",
   "name": "python3"
  },
  "language_info": {
   "codemirror_mode": {
    "name": "ipython",
    "version": 3
   },
   "file_extension": ".py",
   "mimetype": "text/x-python",
   "name": "python",
   "nbconvert_exporter": "python",
   "pygments_lexer": "ipython3",
   "version": "3.7.3"
  }
 },
 "nbformat": 4,
 "nbformat_minor": 2
}
