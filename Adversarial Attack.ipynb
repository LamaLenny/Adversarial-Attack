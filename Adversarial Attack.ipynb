{
 "cells": [
  {
   "cell_type": "code",
   "execution_count": 2,
   "metadata": {},
   "outputs": [],
   "source": [
    "import pandas as pd\n",
    "import numpy as np\n",
    "import torch\n",
    "import torch.nn as nn\n",
    "import matplotlib.pyplot as plt\n",
    "from sklearn.model_selection import train_test_split\n",
    "from sklearn.metrics import accuracy_score\n",
    "from collections import Counter"
   ]
  },
  {
   "cell_type": "markdown",
   "metadata": {},
   "source": [
    "# Штуки с данными"
   ]
  },
  {
   "cell_type": "code",
   "execution_count": 3,
   "metadata": {},
   "outputs": [],
   "source": [
    "class DataLoader:\n",
    "    \n",
    "    def __init__(self, data, target, batch_size=256):\n",
    "        self.data = data\n",
    "        self.target = target\n",
    "        self.batch_size = batch_size\n",
    "\n",
    "    def next(self):\n",
    "        m, _ = self.data.shape\n",
    "        rand_index = np.random.choice(m, size=m)\n",
    "        X, y = self.data[rand_index], self.target[rand_index]\n",
    "        pos = 0\n",
    "        while pos < m:\n",
    "            X_batch, y_batch = X[pos:pos+self.batch_size], y[pos:pos+self.batch_size]\n",
    "            yield (torch.FloatTensor(X_batch), torch.LongTensor(y_batch))\n",
    "            pos += self.batch_size\n",
    "\n",
    "    def __call__(self):\n",
    "        return self.next()\n"
   ]
  },
  {
   "cell_type": "code",
   "execution_count": 4,
   "metadata": {},
   "outputs": [],
   "source": [
    "X = pd.read_csv('mnist_data.csv').values[:, 1:]\n",
    "y = pd.read_csv('mnist_target.csv').values[:, 1]"
   ]
  },
  {
   "cell_type": "code",
   "execution_count": 5,
   "metadata": {},
   "outputs": [],
   "source": [
    "X = X / 255"
   ]
  },
  {
   "cell_type": "code",
   "execution_count": 6,
   "metadata": {},
   "outputs": [],
   "source": [
    "X_train_val, X_test, y_train_val, y_test = train_test_split(X, y, test_size=0.2, stratify=y, random_state=42)\n",
    "X_train, X_val, y_train, y_val = train_test_split(X_train_val, y_train_val, test_size=0.2, stratify=y_train_val, random_state=42)"
   ]
  },
  {
   "cell_type": "markdown",
   "metadata": {},
   "source": [
    "# Сетка"
   ]
  },
  {
   "cell_type": "code",
   "execution_count": 7,
   "metadata": {},
   "outputs": [],
   "source": [
    "class Model(nn.Module):\n",
    "    \n",
    "    def __init__(self, inp_dim, out_dim=10):\n",
    "        super().__init__()\n",
    "        \n",
    "        lin1 = nn.Linear(inp_dim, 256)\n",
    "        torch.nn.init.xavier_normal_(lin1.weight)\n",
    "        \n",
    "        lin2 = nn.Linear(256, out_dim)\n",
    "        torch.nn.init.xavier_normal_(lin1.weight)\n",
    "        \n",
    "        self.layers = nn.Sequential(lin1, nn.ReLU(), lin2)\n",
    "    \n",
    "    def forward(self, inp):\n",
    "        return self.layers(inp)"
   ]
  },
  {
   "cell_type": "markdown",
   "metadata": {},
   "source": [
    "# Классификатор"
   ]
  },
  {
   "cell_type": "code",
   "execution_count": 8,
   "metadata": {},
   "outputs": [],
   "source": [
    "class Classifier:\n",
    "    \n",
    "    def __init__(self, inp_dim, out_dim=10):\n",
    "        self.model = Model(inp_dim, out_dim)\n",
    "        self.optimizer = torch.optim.Adam(self.model.parameters(), lr=1e-4)\n",
    "        self.loss_function = nn.CrossEntropyLoss()\n",
    "    \n",
    "    def predict(self, X):\n",
    "        if not torch.is_tensor(X):\n",
    "            X = torch.tensor(X).float()   \n",
    "        return torch.argmax(self.model(X), axis=1)\n",
    "    \n",
    "    def fit(self, X_train, y_train, X_val=None, y_val=None, num_epochs=50):         \n",
    "        dataloader = DataLoader(X_train, y_train)\n",
    "        losses = []\n",
    "        accuracies = []\n",
    "        for epoch in range(num_epochs):\n",
    "            loss_sum = 0\n",
    "            for data in dataloader():\n",
    "                inputs, targets = data\n",
    "                outputs = self.model(inputs)\n",
    "                loss = self.loss_function(outputs, targets)\n",
    "                loss_sum += loss.detach()\n",
    "                \n",
    "                self.optimizer.zero_grad()\n",
    "                loss.backward()\n",
    "                self.optimizer.step()\n",
    "                \n",
    "            if X_val is not None:\n",
    "                acc = accuracy_score(y_true=y_val, y_pred=self.predict(X_val))\n",
    "                print(f'Epoch: [{epoch+1}/{num_epochs}], loss: {loss_sum}, acc: {acc}')\n",
    "                accuracies.append(acc)\n",
    "            else:\n",
    "                print(f'Epoch: [{epoch+1}/{num_epochs}], loss: {loss_sum}')\n",
    "            losses.append(loss_sum)\n",
    "    \n",
    "        plt.figure(figsize=(7, 7))\n",
    "        plt.plot(list(range(1, num_epochs + 1)), losses)\n",
    "        plt.title('Loss function value')\n",
    "        plt.show()\n",
    "        \n",
    "        plt.figure(figsize=(7, 7))\n",
    "        plt.plot(list(range(1, num_epochs + 1)), accuracies)\n",
    "        plt.title('Accuracy')\n",
    "        plt.show()\n",
    "    \n",
    "    def fast_adversarial(self, dig, n=784, n_classes=10, eta=0.01, iters=10):\n",
    "        y = torch.LongTensor([dig])\n",
    "        x = torch.tensor(np.random.normal(loc=0, scale=0.01, size=n),\n",
    "                         requires_grad=True, dtype=torch.float)\n",
    "        for _ in range(iters):\n",
    "            loss = self.loss_function(self.model(x).unsqueeze(0), y)\n",
    "            self.model.zero_grad()\n",
    "            loss.backward()       \n",
    "            x = torch.clamp(x - eta * x.grad.sign(), 0, 1).clone().detach().requires_grad_(True)\n",
    "        return x\n",
    "            "
   ]
  },
  {
   "cell_type": "markdown",
   "metadata": {},
   "source": [
    "# Обучение"
   ]
  },
  {
   "cell_type": "code",
   "execution_count": 9,
   "metadata": {},
   "outputs": [
    {
     "name": "stdout",
     "output_type": "stream",
     "text": [
      "Epoch: [1/50], loss: 274.4404296875, acc: 0.8333928571428572\n",
      "Epoch: [2/50], loss: 118.6151123046875, acc: 0.8783035714285714\n",
      "Epoch: [3/50], loss: 80.81593322753906, acc: 0.8942857142857142\n",
      "Epoch: [4/50], loss: 65.76600646972656, acc: 0.9036607142857143\n",
      "Epoch: [5/50], loss: 58.22185516357422, acc: 0.9129464285714286\n",
      "Epoch: [6/50], loss: 54.28569412231445, acc: 0.919375\n",
      "Epoch: [7/50], loss: 50.46790313720703, acc: 0.9225892857142857\n",
      "Epoch: [8/50], loss: 46.54574966430664, acc: 0.9283035714285715\n",
      "Epoch: [9/50], loss: 44.0350456237793, acc: 0.93125\n",
      "Epoch: [10/50], loss: 40.79002380371094, acc: 0.934375\n",
      "Epoch: [11/50], loss: 40.21769714355469, acc: 0.936875\n",
      "Epoch: [12/50], loss: 38.55986785888672, acc: 0.939375\n",
      "Epoch: [13/50], loss: 36.6137580871582, acc: 0.9411607142857142\n",
      "Epoch: [14/50], loss: 34.65281677246094, acc: 0.943125\n",
      "Epoch: [15/50], loss: 33.15504837036133, acc: 0.9445535714285714\n",
      "Epoch: [16/50], loss: 31.464445114135742, acc: 0.9466071428571429\n",
      "Epoch: [17/50], loss: 30.603485107421875, acc: 0.9483035714285715\n",
      "Epoch: [18/50], loss: 29.831745147705078, acc: 0.949375\n",
      "Epoch: [19/50], loss: 28.092060089111328, acc: 0.9511607142857142\n",
      "Epoch: [20/50], loss: 28.01325798034668, acc: 0.9523214285714285\n",
      "Epoch: [21/50], loss: 26.371004104614258, acc: 0.9535714285714286\n",
      "Epoch: [22/50], loss: 25.162431716918945, acc: 0.9540178571428571\n",
      "Epoch: [23/50], loss: 24.79046058654785, acc: 0.9547321428571428\n",
      "Epoch: [24/50], loss: 23.471113204956055, acc: 0.9552678571428571\n",
      "Epoch: [25/50], loss: 22.83934783935547, acc: 0.95625\n",
      "Epoch: [26/50], loss: 22.206804275512695, acc: 0.9579464285714285\n",
      "Epoch: [27/50], loss: 21.647987365722656, acc: 0.9585714285714285\n",
      "Epoch: [28/50], loss: 21.29991912841797, acc: 0.9591964285714286\n",
      "Epoch: [29/50], loss: 20.308629989624023, acc: 0.9600892857142858\n",
      "Epoch: [30/50], loss: 20.073110580444336, acc: 0.9604464285714286\n",
      "Epoch: [31/50], loss: 18.872882843017578, acc: 0.9610714285714286\n",
      "Epoch: [32/50], loss: 19.01722526550293, acc: 0.9616964285714286\n",
      "Epoch: [33/50], loss: 17.86581802368164, acc: 0.9625892857142857\n",
      "Epoch: [34/50], loss: 17.43325424194336, acc: 0.9628571428571429\n",
      "Epoch: [35/50], loss: 17.252973556518555, acc: 0.9635714285714285\n",
      "Epoch: [36/50], loss: 17.01798439025879, acc: 0.9638392857142857\n",
      "Epoch: [37/50], loss: 16.421064376831055, acc: 0.9653571428571428\n",
      "Epoch: [38/50], loss: 15.380687713623047, acc: 0.965\n",
      "Epoch: [39/50], loss: 15.973787307739258, acc: 0.9648214285714286\n",
      "Epoch: [40/50], loss: 14.79247760772705, acc: 0.9655357142857143\n",
      "Epoch: [41/50], loss: 14.381229400634766, acc: 0.9657142857142857\n",
      "Epoch: [42/50], loss: 13.777247428894043, acc: 0.9663392857142857\n",
      "Epoch: [43/50], loss: 13.7697114944458, acc: 0.9670535714285714\n",
      "Epoch: [44/50], loss: 13.542096138000488, acc: 0.9666964285714286\n",
      "Epoch: [45/50], loss: 13.063070297241211, acc: 0.9677678571428572\n",
      "Epoch: [46/50], loss: 12.565608978271484, acc: 0.9677678571428572\n",
      "Epoch: [47/50], loss: 12.259568214416504, acc: 0.9675892857142857\n",
      "Epoch: [48/50], loss: 12.160511016845703, acc: 0.9678571428571429\n",
      "Epoch: [49/50], loss: 12.029023170471191, acc: 0.9683035714285714\n",
      "Epoch: [50/50], loss: 11.528762817382812, acc: 0.9691964285714286\n"
     ]
    },
    {
     "data": {
      "image/png": "[encoded data removed]",
      "text/plain": [
       "<Figure size 504x504 with 1 Axes>"
      ]
     },
     "metadata": {
      "needs_background": "light"
     },
     "output_type": "display_data"
    },
    {
     "data": {
      "image/png": "[encoded data removed]",
      "text/plain": [
       "<Figure size 504x504 with 1 Axes>"
      ]
     },
     "metadata": {
      "needs_background": "light"
     },
     "output_type": "display_data"
    }
   ],
   "source": [
    "classifier = Classifier(X_train.shape[1])\n",
    "classifier.fit(X_train, y_train, X_val, y_val, 50)"
   ]
  },
  {
   "cell_type": "markdown",
   "metadata": {},
   "source": [
    "# Результаты Adversarial Attack"
   ]
  },
  {
   "cell_type": "code",
   "execution_count": 10,
   "metadata": {},
   "outputs": [],
   "source": [
    "example = classifier.fast_adversarial(8, eta=0.1, iters=5)"
   ]
  },
  {
   "cell_type": "code",
   "execution_count": 11,
   "metadata": {},
   "outputs": [],
   "source": [
    "alpha = 0.5"
   ]
  },
  {
   "cell_type": "code",
   "execution_count": 12,
   "metadata": {},
   "outputs": [],
   "source": [
    "X_spoiled = torch.max(torch.FloatTensor(X_test)*(1-alpha), alpha*example)"
   ]
  },
  {
   "cell_type": "code",
   "execution_count": 13,
   "metadata": {},
   "outputs": [
    {
     "name": "stdout",
     "output_type": "stream",
     "text": [
      "Частоты истинных классов: Counter({1: 1575, 7: 1459, 3: 1428, 2: 1398, 9: 1392, 0: 1381, 6: 1375, 8: 1365, 4: 1365, 5: 1262})\n",
      "***********************\n",
      "До шума: \n",
      "Accuracy: 0.9678571428571429\n",
      "Частоты предсказанных классов: Counter({1: 1586, 7: 1459, 9: 1402, 3: 1401, 0: 1397, 2: 1387, 6: 1376, 8: 1373, 4: 1353, 5: 1266})\n",
      "***********************\n",
      "После шума: \n",
      "Accuracy: 0.10307142857142858\n",
      "Частоты предсказанных классов: Counter({8: 13922, 0: 48, 5: 12, 6: 8, 3: 6, 7: 2, 9: 1, 2: 1})\n"
     ]
    }
   ],
   "source": [
    "print(f'Частоты истинных классов: {Counter(np.array(y_test, dtype=int))}')\n",
    "print('***********************')\n",
    "print('До шума: ')\n",
    "y_pred = classifier.predict(X_test)\n",
    "print(f'Accuracy: {accuracy_score(y_true=y_test, y_pred=y_pred)}')\n",
    "print(f'Частоты предсказанных классов: {Counter(np.array(y_pred, dtype=int))}')\n",
    "print('***********************')\n",
    "print('После шума: ')\n",
    "y_adv = classifier.predict(X_spoiled)\n",
    "print(f'Accuracy: {accuracy_score(y_true=y_test, y_pred=y_adv)}')\n",
    "print(f'Частоты предсказанных классов: {Counter(np.array(y_adv))}')"
   ]
  },
  {
   "cell_type": "markdown",
   "metadata": {},
   "source": [
    "Как видим, после наложения шума почти все цифры интерпретируются как 8"
   ]
  },
  {
   "cell_type": "markdown",
   "metadata": {},
   "source": [
    "Посмотрим как выглядит картинка, после наложения шума."
   ]
  },
  {
   "cell_type": "code",
   "execution_count": 27,
   "metadata": {},
   "outputs": [
    {
     "name": "stdout",
     "output_type": "stream",
     "text": [
      "Классификатор решил, что это 8\n"
     ]
    },
    {
     "data": {
      "image/png": "[encoded data removed]",
      "text/plain": [
       "<Figure size 432x288 with 1 Axes>"
      ]
     },
     "metadata": {
      "needs_background": "light"
     },
     "output_type": "display_data"
    }
   ],
   "source": [
    "y_pred = classifier.predict(X_spoiled)\n",
    "print(f'Классификатор решил, что это {y_pred[0]}')\n",
    "plt.imshow(X_spoiled[0].reshape(28, 28).detach().numpy(), cmap='gray')\n",
    "plt.show()"
   ]
  },
  {
   "cell_type": "code",
   "execution_count": null,
   "metadata": {},
   "outputs": [],
   "source": []
  }
 ],
 "metadata": {
  "kernelspec": {
   "display_name": "Python 3",
   "language": "python",
   "name": "python3"
  },
  "language_info": {
   "codemirror_mode": {
    "name": "ipython",
    "version": 3
   },
   "file_extension": ".py",
   "mimetype": "text/x-python",
   "name": "python",
   "nbconvert_exporter": "python",
   "pygments_lexer": "ipython3",
   "version": "3.7.3"
  }
 },
 "nbformat": 4,
 "nbformat_minor": 2
}
