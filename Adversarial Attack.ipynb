{
 "cells": [
  {
   "cell_type": "code",
   "execution_count": 1,
   "metadata": {},
   "outputs": [],
   "source": [
    "import pandas as pd\n",
    "import numpy as np\n",
    "import torch\n",
    "import torch.nn as nn\n",
    "import matplotlib.pyplot as plt\n",
    "import copy\n",
    "from sklearn.model_selection import train_test_split\n",
    "from sklearn.metrics import accuracy_score\n",
    "from collections import Counter"
   ]
  },
  {
   "cell_type": "markdown",
   "metadata": {},
   "source": [
    "# Штуки с данными"
   ]
  },
  {
   "cell_type": "code",
   "execution_count": 2,
   "metadata": {},
   "outputs": [],
   "source": [
    "class DataLoader:\n",
    "    \n",
    "    def __init__(self, data, target, batch_size=256):\n",
    "        self.data = data\n",
    "        self.target = target\n",
    "        self.batch_size = batch_size\n",
    "\n",
    "    def next(self):\n",
    "        m, _ = self.data.shape\n",
    "        rand_index = np.random.choice(m, size=m)\n",
    "        X, y = self.data[rand_index], self.target[rand_index]\n",
    "        pos = 0\n",
    "        while pos < m:\n",
    "            X_batch, y_batch = X[pos:pos+self.batch_size], y[pos:pos+self.batch_size]\n",
    "            yield (torch.FloatTensor(X_batch), torch.LongTensor(y_batch))\n",
    "            pos += self.batch_size\n",
    "\n",
    "    def __call__(self):\n",
    "        return self.next()\n"
   ]
  },
  {
   "cell_type": "code",
   "execution_count": 3,
   "metadata": {},
   "outputs": [],
   "source": [
    "X = pd.read_csv('mnist_data.csv').values[:, 1:]\n",
    "y = pd.read_csv('mnist_target.csv').values[:, 1]"
   ]
  },
  {
   "cell_type": "code",
   "execution_count": 4,
   "metadata": {},
   "outputs": [],
   "source": [
    "X = X / 255"
   ]
  },
  {
   "cell_type": "code",
   "execution_count": 5,
   "metadata": {},
   "outputs": [],
   "source": [
    "X_train_val, X_test, y_train_val, y_test = train_test_split(X, y, test_size=0.2, stratify=y, random_state=42)\n",
    "X_train, X_val, y_train, y_val = train_test_split(X_train_val, y_train_val, test_size=0.2, stratify=y_train_val, random_state=42)"
   ]
  },
  {
   "cell_type": "markdown",
   "metadata": {},
   "source": [
    "# Сетка"
   ]
  },
  {
   "cell_type": "code",
   "execution_count": 6,
   "metadata": {},
   "outputs": [],
   "source": [
    "class Model(nn.Module):\n",
    "    \n",
    "    def __init__(self, inp_dim, out_dim=10):\n",
    "        super().__init__()\n",
    "        \n",
    "        lin1 = nn.Linear(inp_dim, 256)\n",
    "        torch.nn.init.xavier_normal_(lin1.weight)\n",
    "        \n",
    "        lin2 = nn.Linear(256, out_dim)\n",
    "        torch.nn.init.xavier_normal_(lin1.weight)\n",
    "        \n",
    "        self.layers = nn.Sequential(lin1, nn.ReLU(), lin2)\n",
    "    \n",
    "    def forward(self, inp):\n",
    "        return self.layers(inp)"
   ]
  },
  {
   "cell_type": "markdown",
   "metadata": {},
   "source": [
    "# Классификатор"
   ]
  },
  {
   "cell_type": "code",
   "execution_count": 7,
   "metadata": {},
   "outputs": [],
   "source": [
    "class Classifier:\n",
    "    \n",
    "    def __init__(self, inp_dim, out_dim=10):\n",
    "        self.model = Model(inp_dim, out_dim)\n",
    "        self.optimizer = torch.optim.Adam(self.model.parameters(), lr=1e-4)\n",
    "        self.loss_function = nn.CrossEntropyLoss()\n",
    "    \n",
    "    def predict(self, X):\n",
    "        if not torch.is_tensor(X):\n",
    "            X = torch.tensor(X).float()   \n",
    "        return torch.argmax(self.model(X), axis=1)\n",
    "    \n",
    "    def fit(self, X_train, y_train, X_val=None, y_val=None, num_epochs=50):         \n",
    "        dataloader = DataLoader(X_train, y_train)\n",
    "        losses = []\n",
    "        accuracies = []\n",
    "        for epoch in range(num_epochs):\n",
    "            loss_sum = 0\n",
    "            for data in dataloader():\n",
    "                inputs, targets = data\n",
    "                outputs = self.model(inputs)\n",
    "                loss = self.loss_function(outputs, targets)\n",
    "                loss_sum += loss.detach()\n",
    "                \n",
    "                self.optimizer.zero_grad()\n",
    "                loss.backward()\n",
    "                self.optimizer.step()\n",
    "                \n",
    "            if X_val is not None:\n",
    "                acc = accuracy_score(y_true=y_val, y_pred=self.predict(X_val))\n",
    "                print(f'Epoch: [{epoch+1}/{num_epochs}], loss: {loss_sum}, acc: {acc}')\n",
    "                accuracies.append(acc)\n",
    "            else:\n",
    "                print(f'Epoch: [{epoch+1}/{num_epochs}], loss: {loss_sum}')\n",
    "            losses.append(loss_sum)\n",
    "    \n",
    "        plt.figure(figsize=(7, 7))\n",
    "        plt.plot(list(range(1, num_epochs + 1)), losses)\n",
    "        plt.title('Loss function value')\n",
    "        plt.show()\n",
    "        \n",
    "        plt.figure(figsize=(7, 7))\n",
    "        plt.plot(list(range(1, num_epochs + 1)), accuracies)\n",
    "        plt.title('Accuracy')\n",
    "        plt.show()\n",
    "    \n",
    "    def fast_adversarial(self, dig, n=784, n_classes=10, eta=0.01, iters=10):\n",
    "        y = torch.LongTensor([dig])\n",
    "        x = torch.tensor(np.random.normal(loc=0, scale=0.01, size=n),\n",
    "                         requires_grad=True, dtype=torch.float)\n",
    "        for _ in range(iters):\n",
    "            loss = self.loss_function(self.model(x).unsqueeze(0), y)\n",
    "            self.model.zero_grad()\n",
    "            loss.backward()       \n",
    "            x = torch.clamp(x - eta * x.grad.sign(), 0, 1).clone().detach().requires_grad_(True)\n",
    "        return x\n",
    "            "
   ]
  },
  {
   "cell_type": "markdown",
   "metadata": {},
   "source": [
    "# Обучение"
   ]
  },
  {
   "cell_type": "code",
   "execution_count": 8,
   "metadata": {},
   "outputs": [
    {
     "name": "stdout",
     "output_type": "stream",
     "text": [
      "Epoch: [1/50], loss: 267.5614318847656, acc: 0.8325892857142857\n",
      "Epoch: [2/50], loss: 116.56360626220703, acc: 0.8841071428571429\n",
      "Epoch: [3/50], loss: 79.38346862792969, acc: 0.9003571428571429\n",
      "Epoch: [4/50], loss: 66.5382308959961, acc: 0.9085714285714286\n",
      "Epoch: [5/50], loss: 58.749053955078125, acc: 0.9149107142857142\n",
      "Epoch: [6/50], loss: 52.660545349121094, acc: 0.918125\n",
      "Epoch: [7/50], loss: 48.66394805908203, acc: 0.9221428571428572\n",
      "Epoch: [8/50], loss: 46.57658767700195, acc: 0.9266964285714285\n",
      "Epoch: [9/50], loss: 45.015071868896484, acc: 0.9307142857142857\n",
      "Epoch: [10/50], loss: 41.74622344970703, acc: 0.9338392857142858\n",
      "Epoch: [11/50], loss: 40.48688888549805, acc: 0.9365178571428572\n",
      "Epoch: [12/50], loss: 38.52666091918945, acc: 0.9390178571428571\n",
      "Epoch: [13/50], loss: 37.31449508666992, acc: 0.9405357142857143\n",
      "Epoch: [14/50], loss: 34.35668182373047, acc: 0.9432142857142857\n",
      "Epoch: [15/50], loss: 33.837371826171875, acc: 0.9446428571428571\n",
      "Epoch: [16/50], loss: 32.379844665527344, acc: 0.9469642857142857\n",
      "Epoch: [17/50], loss: 30.174047470092773, acc: 0.9483035714285715\n",
      "Epoch: [18/50], loss: 30.104938507080078, acc: 0.9495535714285714\n",
      "Epoch: [19/50], loss: 28.30219268798828, acc: 0.950625\n",
      "Epoch: [20/50], loss: 27.410364151000977, acc: 0.95125\n",
      "Epoch: [21/50], loss: 25.95857048034668, acc: 0.9533035714285715\n",
      "Epoch: [22/50], loss: 25.52436637878418, acc: 0.9545535714285714\n",
      "Epoch: [23/50], loss: 24.851938247680664, acc: 0.9564285714285714\n",
      "Epoch: [24/50], loss: 24.718975067138672, acc: 0.956875\n",
      "Epoch: [25/50], loss: 23.704923629760742, acc: 0.9583035714285715\n",
      "Epoch: [26/50], loss: 22.485837936401367, acc: 0.9591964285714286\n",
      "Epoch: [27/50], loss: 21.725767135620117, acc: 0.9591964285714286\n",
      "Epoch: [28/50], loss: 21.234683990478516, acc: 0.9604464285714286\n",
      "Epoch: [29/50], loss: 20.499380111694336, acc: 0.9608928571428571\n",
      "Epoch: [30/50], loss: 19.155624389648438, acc: 0.9605357142857143\n",
      "Epoch: [31/50], loss: 18.67328453063965, acc: 0.9620535714285714\n",
      "Epoch: [32/50], loss: 18.281352996826172, acc: 0.9633035714285715\n",
      "Epoch: [33/50], loss: 18.779333114624023, acc: 0.9632142857142857\n",
      "Epoch: [34/50], loss: 17.28546142578125, acc: 0.9636607142857143\n",
      "Epoch: [35/50], loss: 16.728965759277344, acc: 0.9641964285714286\n",
      "Epoch: [36/50], loss: 16.713769912719727, acc: 0.9660714285714286\n",
      "Epoch: [37/50], loss: 16.4732608795166, acc: 0.9652678571428571\n",
      "Epoch: [38/50], loss: 15.774797439575195, acc: 0.9657142857142857\n",
      "Epoch: [39/50], loss: 15.101303100585938, acc: 0.9658928571428571\n",
      "Epoch: [40/50], loss: 14.606109619140625, acc: 0.96625\n",
      "Epoch: [41/50], loss: 14.562159538269043, acc: 0.9667857142857142\n",
      "Epoch: [42/50], loss: 14.189316749572754, acc: 0.9670535714285714\n",
      "Epoch: [43/50], loss: 14.074450492858887, acc: 0.9672321428571429\n",
      "Epoch: [44/50], loss: 13.38819694519043, acc: 0.9679464285714285\n",
      "Epoch: [45/50], loss: 12.954106330871582, acc: 0.9667857142857142\n",
      "Epoch: [46/50], loss: 12.850935935974121, acc: 0.9678571428571429\n",
      "Epoch: [47/50], loss: 12.590912818908691, acc: 0.9682142857142857\n",
      "Epoch: [48/50], loss: 12.298489570617676, acc: 0.9678571428571429\n",
      "Epoch: [49/50], loss: 11.602635383605957, acc: 0.9674107142857142\n",
      "Epoch: [50/50], loss: 11.426006317138672, acc: 0.9684821428571428\n"
     ]
    },
    {
     "data": {
      "image/png": "[encoded data removed]",
      "text/plain": [
       "<Figure size 504x504 with 1 Axes>"
      ]
     },
     "metadata": {
      "needs_background": "light"
     },
     "output_type": "display_data"
    },
    {
     "data": {
      "image/png": "[encoded data removed]",
      "text/plain": [
       "<Figure size 504x504 with 1 Axes>"
      ]
     },
     "metadata": {
      "needs_background": "light"
     },
     "output_type": "display_data"
    }
   ],
   "source": [
    "classifier = Classifier(X_train.shape[1])\n",
    "classifier.fit(X_train, y_train, X_val, y_val, 50)"
   ]
  },
  {
   "cell_type": "markdown",
   "metadata": {},
   "source": [
    "# Результаты Adversarial Attack"
   ]
  },
  {
   "cell_type": "code",
   "execution_count": 9,
   "metadata": {},
   "outputs": [],
   "source": [
    "example = classifier.fast_adversarial(8, eta=0.1, iters=5)"
   ]
  },
  {
   "cell_type": "code",
   "execution_count": 10,
   "metadata": {},
   "outputs": [],
   "source": [
    "alpha = 0.5"
   ]
  },
  {
   "cell_type": "code",
   "execution_count": 11,
   "metadata": {},
   "outputs": [],
   "source": [
    "X_spoiled = torch.max(torch.FloatTensor(X_test)*(1-alpha), alpha*example)"
   ]
  },
  {
   "cell_type": "code",
   "execution_count": 13,
   "metadata": {},
   "outputs": [
    {
     "name": "stdout",
     "output_type": "stream",
     "text": [
      "До шума: \n",
      "Accuracy: 0.9697857142857143\n",
      "Частоты классов: Counter({1: 1575, 7: 1459, 3: 1428, 2: 1398, 9: 1392, 0: 1381, 6: 1375, 8: 1365, 4: 1365, 5: 1262})\n",
      "***********************\n",
      "После шума: \n",
      "Accuracy: 0.102\n",
      "Частоты классов: Counter({8: 13937, 0: 35, 6: 23, 3: 3, 9: 1, 2: 1})\n"
     ]
    }
   ],
   "source": [
    "y_pred = classifier.predict(X_test)\n",
    "print('До шума: ')\n",
    "print(f'Accuracy: {accuracy_score(y_true=y_test, y_pred=y_pred)}')\n",
    "print(f'Частоты классов: {Counter(np.array(y_test, dtype=int))}')\n",
    "print('***********************')\n",
    "y_adv = classifier.predict(X_spoiled)\n",
    "print('После шума: ')\n",
    "print(f'Accuracy: {accuracy_score(y_true=y_test, y_pred=y_adv)}')\n",
    "print(f'Частоты классов: {Counter(np.array(y_adv))}')"
   ]
  },
  {
   "cell_type": "markdown",
   "metadata": {},
   "source": [
    "Как видим, после наложения шума почти все цифры интерпретируются как 8"
   ]
  },
  {
   "cell_type": "code",
   "execution_count": null,
   "metadata": {},
   "outputs": [],
   "source": []
  },
  {
   "cell_type": "code",
   "execution_count": null,
   "metadata": {},
   "outputs": [],
   "source": []
  }
 ],
 "metadata": {
  "kernelspec": {
   "display_name": "Python 3",
   "language": "python",
   "name": "python3"
  },
  "language_info": {
   "codemirror_mode": {
    "name": "ipython",
    "version": 3
   },
   "file_extension": ".py",
   "mimetype": "text/x-python",
   "name": "python",
   "nbconvert_exporter": "python",
   "pygments_lexer": "ipython3",
   "version": "3.7.3"
  }
 },
 "nbformat": 4,
 "nbformat_minor": 2
}
